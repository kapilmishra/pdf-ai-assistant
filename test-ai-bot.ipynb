{
 "cells": [
  {
   "cell_type": "code",
   "execution_count": 1,
   "metadata": {},
   "outputs": [
    {
     "name": "stdout",
     "output_type": "stream",
     "text": [
      "Collecting git+https://github.com/kapilmishra/pdf-ai-assistant.git\n",
      "  Cloning https://github.com/kapilmishra/pdf-ai-assistant.git to c:\\users\\kmishra\\appdata\\local\\temp\\pip-req-build-v55m308b\n",
      "  Resolved https://github.com/kapilmishra/pdf-ai-assistant.git to commit 80e47b9e7d5ba509c2c360dcd9603709787cd242\n",
      "  Installing build dependencies: started\n",
      "  Installing build dependencies: finished with status 'done'\n",
      "  Getting requirements to build wheel: started\n",
      "  Getting requirements to build wheel: finished with status 'done'\n",
      "  Preparing metadata (pyproject.toml): started\n",
      "  Preparing metadata (pyproject.toml): finished with status 'error'\n",
      "Note: you may need to restart the kernel to use updated packages.\n"
     ]
    },
    {
     "name": "stderr",
     "output_type": "stream",
     "text": [
      "  Running command git clone --filter=blob:none --quiet https://github.com/kapilmishra/pdf-ai-assistant.git 'C:\\Users\\kmishra\\AppData\\Local\\Temp\\pip-req-build-v55m308b'\n",
      "  error: subprocess-exited-with-error\n",
      "  \n",
      "  × Preparing metadata (pyproject.toml) did not run successfully.\n",
      "  │ exit code: 1\n",
      "  ╰─> [20 lines of output]\n",
      "      Traceback (most recent call last):\n",
      "        File \"c:\\Users\\kmishra\\AppData\\Local\\Programs\\Python\\Python310\\lib\\site-packages\\pip\\_vendor\\pyproject_hooks\\_in_process\\_in_process.py\", line 353, in <module>\n",
      "          main()\n",
      "        File \"c:\\Users\\kmishra\\AppData\\Local\\Programs\\Python\\Python310\\lib\\site-packages\\pip\\_vendor\\pyproject_hooks\\_in_process\\_in_process.py\", line 335, in main\n",
      "          json_out['return_val'] = hook(**hook_input['kwargs'])\n",
      "        File \"c:\\Users\\kmishra\\AppData\\Local\\Programs\\Python\\Python310\\lib\\site-packages\\pip\\_vendor\\pyproject_hooks\\_in_process\\_in_process.py\", line 149, in prepare_metadata_for_build_wheel\n",
      "          return hook(metadata_directory, config_settings)\n",
      "        File \"C:\\Users\\kmishra\\AppData\\Local\\Temp\\pip-build-env-9osx2qqy\\overlay\\Lib\\site-packages\\poetry\\core\\masonry\\api.py\", line 41, in prepare_metadata_for_build_wheel\n",
      "          builder = WheelBuilder(poetry)\n",
      "        File \"C:\\Users\\kmishra\\AppData\\Local\\Temp\\pip-build-env-9osx2qqy\\overlay\\Lib\\site-packages\\poetry\\core\\masonry\\builders\\wheel.py\", line 59, in __init__\n",
      "          super().__init__(poetry, executable=executable)\n",
      "        File \"C:\\Users\\kmishra\\AppData\\Local\\Temp\\pip-build-env-9osx2qqy\\overlay\\Lib\\site-packages\\poetry\\core\\masonry\\builders\\builder.py\", line 83, in __init__\n",
      "          self._module = Module(\n",
      "        File \"C:\\Users\\kmishra\\AppData\\Local\\Temp\\pip-build-env-9osx2qqy\\overlay\\Lib\\site-packages\\poetry\\core\\masonry\\utils\\module.py\", line 79, in __init__\n",
      "          PackageInclude(\n",
      "        File \"C:\\Users\\kmishra\\AppData\\Local\\Temp\\pip-build-env-9osx2qqy\\overlay\\Lib\\site-packages\\poetry\\core\\masonry\\utils\\package_include.py\", line 29, in __init__\n",
      "          self.check_elements()\n",
      "        File \"C:\\Users\\kmishra\\AppData\\Local\\Temp\\pip-build-env-9osx2qqy\\overlay\\Lib\\site-packages\\poetry\\core\\masonry\\utils\\package_include.py\", line 66, in check_elements\n",
      "          raise ValueError(\n",
      "      ValueError: C:\\Users\\kmishra\\AppData\\Local\\Temp\\pip-req-build-v55m308b\\pdf-ai-assistant does not contain any element\n",
      "      [end of output]\n",
      "  \n",
      "  note: This error originates from a subprocess, and is likely not a problem with pip.\n",
      "error: metadata-generation-failed\n",
      "\n",
      "× Encountered error while generating package metadata.\n",
      "╰─> See above for output.\n",
      "\n",
      "note: This is an issue with the package mentioned above, not pip.\n",
      "hint: See above for details.\n",
      "\n",
      "[notice] A new release of pip is available: 23.0.1 -> 23.1.2\n",
      "[notice] To update, run: python.exe -m pip install --upgrade pip\n"
     ]
    }
   ],
   "source": [
    "#%pip install -qU arxiv-bot==0.0.6\n",
    "%pip install git+https://github.com/kapilmishra/pdf-ai-assistant.git\n",
    "%pip install Office365-REST-Python-Client"
   ]
  },
  {
   "cell_type": "code",
   "execution_count": null,
   "metadata": {},
   "outputs": [],
   "source": [
    "import os\n",
    "\n",
    "#os.environ['OPENAI_API_KEY'] = \"OPENAI_API_KEY\"\n",
    "#os.environ['PINECONE_API_KEY'] = \"PINECONE_API_KEY\"\n",
    "os.environ['PINECONE_ENVIRONMENT'] = 'us-west1-gcp-free'\n",
    "index_name = \"pdf-ai-assistant-idx\""
   ]
  },
  {
   "cell_type": "code",
   "execution_count": null,
   "metadata": {},
   "outputs": [],
   "source": [
    "import  pdf_ai_assistant\n",
    "\n",
    "bot = pdf_ai_assistant.bots.AIHelper(\n",
    "    index_name=index_name,\n",
    "    verbose=True\n",
    ")"
   ]
  },
  {
   "cell_type": "code",
   "execution_count": null,
   "metadata": {},
   "outputs": [],
   "source": [
    "bot(\"how are you?\")"
   ]
  },
  {
   "cell_type": "code",
   "execution_count": null,
   "metadata": {},
   "outputs": [],
   "source": [
    "bot(\"What is the general scientific consensus on the development of tool usage in the early homindis?\")"
   ]
  },
  {
   "cell_type": "code",
   "execution_count": null,
   "metadata": {},
   "outputs": [],
   "source": [
    "bot(\"What is the reference of above answer ?\")"
   ]
  },
  {
   "cell_type": "code",
   "execution_count": null,
   "metadata": {},
   "outputs": [],
   "source": [
    "bot(\"could you find the most recent paper on chain of thought (CoT) reasoning and add it to the DB?\")"
   ]
  },
  {
   "cell_type": "code",
   "execution_count": null,
   "metadata": {},
   "outputs": [],
   "source": [
    "bot(\"can you add that paper to the DB\")"
   ]
  },
  {
   "cell_type": "code",
   "execution_count": null,
   "metadata": {},
   "outputs": [],
   "source": [
    "bot(\"find another chain of thought paper via the web\")"
   ]
  },
  {
   "cell_type": "code",
   "execution_count": null,
   "metadata": {},
   "outputs": [],
   "source": [
    "bot(\"can you confirm the above ArXiv ID is correct\")"
   ]
  },
  {
   "cell_type": "code",
   "execution_count": null,
   "metadata": {},
   "outputs": [],
   "source": [
    "bot(\"can you tell me about word2vec?\")"
   ]
  },
  {
   "cell_type": "code",
   "execution_count": null,
   "metadata": {},
   "outputs": [],
   "source": [
    "bot(\"can you add the 1301.3781 paper to the DB?\")"
   ]
  },
  {
   "cell_type": "code",
   "execution_count": null,
   "metadata": {},
   "outputs": [],
   "source": [
    "bot(\"can you tell me about the ReAct framework?\")"
   ]
  },
  {
   "cell_type": "code",
   "execution_count": null,
   "metadata": {},
   "outputs": [],
   "source": [
    "bot(\"can you tell me about the early evolution of human language?\")"
   ]
  },
  {
   "cell_type": "code",
   "execution_count": null,
   "metadata": {},
   "outputs": [],
   "source": [
    "bot(\"can you tell me about metacognition?\")"
   ]
  }
 ],
 "metadata": {
  "kernelspec": {
   "display_name": "ai-assistant",
   "language": "python",
   "name": "python3"
  },
  "language_info": {
   "codemirror_mode": {
    "name": "ipython",
    "version": 3
   },
   "file_extension": ".py",
   "mimetype": "text/x-python",
   "name": "python",
   "nbconvert_exporter": "python",
   "pygments_lexer": "ipython3",
   "version": "3.10.11"
  },
  "orig_nbformat": 4
 },
 "nbformat": 4,
 "nbformat_minor": 2
}
